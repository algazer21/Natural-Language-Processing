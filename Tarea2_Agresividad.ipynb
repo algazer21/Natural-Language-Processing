{
  "nbformat": 4,
  "nbformat_minor": 0,
  "metadata": {
    "colab": {
      "provenance": []
    },
    "kernelspec": {
      "name": "python3",
      "display_name": "Python 3"
    },
    "language_info": {
      "name": "python"
    }
  },
  "cells": [
    {
      "cell_type": "markdown",
      "source": [
        "# Tarea 2: Minería de Texto básica\n",
        "## Alan García Zermeño\n",
        "### CIMAT, 13/02/2022\n"
      ],
      "metadata": {
        "id": "2vBxF2B7jh9f"
      }
    },
    {
      "cell_type": "markdown",
      "source": [
        "Para la realización de esta tarea, reusaremos el código realizado para la práctica 3 de la bolsa de palabras.\n",
        "\n",
        "\n",
        "---\n",
        "\n"
      ],
      "metadata": {
        "id": "YSsCYHk_j1JR"
      }
    },
    {
      "cell_type": "code",
      "execution_count": 1,
      "metadata": {
        "id": "SwR0HMG9b5yR"
      },
      "outputs": [],
      "source": [
        "import os\n",
        "import re\n",
        "from keras.preprocessing.text import Tokenizer\n",
        "import numpy as np"
      ]
    },
    {
      "cell_type": "code",
      "source": [
        "def get_text_from_file(path_corpus, path_truth):\n",
        "  tr_txt = []\n",
        "  tr_y = []\n",
        "\n",
        "  with open(path_corpus,\"r\") as f_corpus, open(path_truth, \"r\") as f_truth:\n",
        "    for twitt in f_corpus:\n",
        "      tr_txt += [twitt]\n",
        "    for label in f_truth:\n",
        "      tr_y += [label]\n",
        "  \n",
        "  return tr_txt,tr_y"
      ],
      "metadata": {
        "id": "-mQGp0-yb-tH"
      },
      "execution_count": 2,
      "outputs": []
    },
    {
      "cell_type": "code",
      "source": [
        "tr_txt, tr_y = get_text_from_file(\"/content/drive/MyDrive/Colab Notebooks/mex_data/mex_train.txt\",\"/content/drive/MyDrive/Colab Notebooks/mex_data/mex_train_labels.txt\")"
      ],
      "metadata": {
        "id": "cxiqtHMMdqH7"
      },
      "execution_count": 3,
      "outputs": []
    },
    {
      "cell_type": "code",
      "source": [
        "from collections import Counter\n",
        "import matplotlib.pyplot as plt\n",
        "%matplotlib inline\n",
        "\n",
        "print(Counter(tr_y))\n",
        "plt.hist(tr_y, bins = len(set(tr_y)))\n",
        "\n",
        "plt.ylabel('Users');\n",
        "plt.xlabel('Class');"
      ],
      "metadata": {
        "colab": {
          "base_uri": "https://localhost:8080/",
          "height": 308
        },
        "id": "ggVEesd6gwTm",
        "outputId": "01ea5b0c-114e-49c3-d021-265029743d05"
      },
      "execution_count": 4,
      "outputs": [
        {
          "output_type": "stream",
          "name": "stdout",
          "text": [
            "Counter({'0\\n': 3563, '1\\n': 1981})\n"
          ]
        },
        {
          "output_type": "display_data",
          "data": {
            "text/plain": [
              "<Figure size 432x288 with 1 Axes>"
            ],
            "image/png": "[encoded data removed]"
          },
          "metadata": {
            "needs_background": "light"
          }
        }
      ]
    },
    {
      "cell_type": "markdown",
      "source": [
        "## Construcción de los datos"
      ],
      "metadata": {
        "id": "dd19FWAchg7E"
      }
    },
    {
      "cell_type": "code",
      "source": [
        "from nltk.tokenize import TweetTokenizer\n",
        "tokenizer = TweetTokenizer()"
      ],
      "metadata": {
        "id": "iBmgs_A7hZm-"
      },
      "execution_count": 5,
      "outputs": []
    },
    {
      "cell_type": "code",
      "source": [
        "import nltk\n",
        "#nltk.download('stopwords')\n",
        "#stopwords = nltk.corpus.stopwords.words('spanish')\n",
        "\n",
        "corpus_palabras = []\n",
        "for doc in tr_txt:\n",
        "  corpus_palabras += tokenizer.tokenize(doc)\n",
        "\n",
        "#corpus_palabras = [t for t in corpus_palabras if t not in stopwords]\n",
        "fdist = nltk.FreqDist(corpus_palabras)"
      ],
      "metadata": {
        "id": "h_zjU-j_hocN"
      },
      "execution_count": 6,
      "outputs": []
    },
    {
      "cell_type": "code",
      "source": [
        "def sortFreqDist(freqdict):\n",
        "  aux = [(freqdict[key],key) for key in freqdict]\n",
        "  aux.sort()\n",
        "  aux.reverse()\n",
        "  return aux"
      ],
      "metadata": {
        "id": "sYp2Cf_uiKAD"
      },
      "execution_count": 7,
      "outputs": []
    },
    {
      "cell_type": "code",
      "source": [
        "V = sortFreqDist(fdist)\n",
        "V = V[:5000]"
      ],
      "metadata": {
        "id": "BtjHnWarkEEb"
      },
      "execution_count": 8,
      "outputs": []
    },
    {
      "cell_type": "code",
      "source": [
        "dict_indices = dict()\n",
        "cont = 0\n",
        "for weight, word in V:\n",
        "  dict_indices[word] = cont\n",
        "  cont += 1"
      ],
      "metadata": {
        "id": "D3JpD6WmkMX3"
      },
      "execution_count": 9,
      "outputs": []
    },
    {
      "cell_type": "code",
      "source": [
        "val_txt, val_y = get_text_from_file(\"/content/drive/MyDrive/Colab Notebooks/mex_data/mex_val.txt\",\"/content/drive/MyDrive/Colab Notebooks/mex_data/mex_val_labels.txt\")\n",
        "val_y = list(map(int, val_y))\n",
        "\n",
        "print(Counter(val_y))\n",
        "plt.hist(val_y, bins = len(set(val_y)))\n",
        "\n",
        "plt.ylabel('Users');\n",
        "plt.xlabel('Class');\n"
      ],
      "metadata": {
        "colab": {
          "base_uri": "https://localhost:8080/",
          "height": 296
        },
        "id": "jSq3WTaYnYf-",
        "outputId": "b9c28582-5ac3-44d7-e769-8234c03af0c1"
      },
      "execution_count": 10,
      "outputs": [
        {
          "output_type": "stream",
          "name": "stdout",
          "text": [
            "Counter({0: 397, 1: 219})\n"
          ]
        },
        {
          "output_type": "display_data",
          "data": {
            "text/plain": [
              "<Figure size 432x288 with 1 Axes>"
            ],
            "image/png": "[encoded data removed]"
          },
          "metadata": {
            "needs_background": "light"
          }
        }
      ]
    },
    {
      "cell_type": "code",
      "source": [
        "from sklearn import svm\n",
        "from sklearn.model_selection import GridSearchCV\n",
        "from sklearn import metrics\n",
        "from sklearn.metrics import accuracy_score, confusion_matrix, f1_score, precision_recall_fscore_support, roc_auc_score"
      ],
      "metadata": {
        "id": "xbZb-08Yrc-j"
      },
      "execution_count": 11,
      "outputs": []
    },
    {
      "cell_type": "markdown",
      "source": [
        "\n",
        "\n",
        "---\n",
        "\n",
        "\n",
        "## **1)** Evalar Bow con pesado binario.\n",
        "\n",
        "$w_{i,j} = 1$    si el documento $d_i$ contiene un término $t_j$, de otra forma, vale cero."
      ],
      "metadata": {
        "id": "kYYdDWDbl74C"
      }
    },
    {
      "cell_type": "code",
      "source": [
        "def build_bow_tr(tr_txt,V,dict_indices):\n",
        "  BOW = np.zeros((len(tr_txt),len(V)),dtype = float)\n",
        "\n",
        "  cont_doc = 0\n",
        "  for tr in tr_txt:\n",
        "    fdist_doc = nltk.FreqDist(tokenizer.tokenize(tr))\n",
        "\n",
        "    for word in fdist_doc:\n",
        "      if word in dict_indices:\n",
        "        BOW[cont_doc, dict_indices[word]] = 1\n",
        "    \n",
        "    cont_doc+=1\n",
        "  \n",
        "  return BOW"
      ],
      "metadata": {
        "id": "7NKmIiJkk0Tg"
      },
      "execution_count": null,
      "outputs": []
    },
    {
      "cell_type": "code",
      "source": [
        "BOW_tr = build_bow_tr(tr_txt, V, dict_indices)\n",
        "BOW_val = build_bow_tr(val_txt, V, dict_indices)"
      ],
      "metadata": {
        "id": "kQScdYtdmeSO"
      },
      "execution_count": null,
      "outputs": []
    },
    {
      "cell_type": "code",
      "source": [
        "tr_y = list(map(int, tr_y))\n",
        "parameters = {'C': [.05, .12, .25, .5, 1, 2, 4]}\n",
        "\n",
        "svr = svm.LinearSVC(class_weight= 'balanced')\n",
        "grid = GridSearchCV(estimator = svr, param_grid = parameters, n_jobs= 8, scoring= \"f1_macro\", cv = 5)\n",
        "\n",
        "grid.fit(BOW_tr, tr_y)\n",
        "y_pred = grid.predict(BOW_val)\n",
        "p,r,f,_ = precision_recall_fscore_support(val_y,y_pred,average='macro',pos_label=1)\n",
        "\n",
        "print(confusion_matrix(val_y,y_pred))\n",
        "print(metrics.classification_report(val_y,y_pred))"
      ],
      "metadata": {
        "colab": {
          "base_uri": "https://localhost:8080/"
        },
        "id": "PKPtusVeo59d",
        "outputId": "3dee6ce7-ef1c-4edf-f921-b2f881ca634c"
      },
      "execution_count": null,
      "outputs": [
        {
          "output_type": "stream",
          "name": "stdout",
          "text": [
            "[[329  68]\n",
            " [ 47 172]]\n",
            "              precision    recall  f1-score   support\n",
            "\n",
            "           0       0.88      0.83      0.85       397\n",
            "           1       0.72      0.79      0.75       219\n",
            "\n",
            "    accuracy                           0.81       616\n",
            "   macro avg       0.80      0.81      0.80       616\n",
            "weighted avg       0.82      0.81      0.82       616\n",
            "\n"
          ]
        }
      ]
    },
    {
      "cell_type": "markdown",
      "source": [
        "## **2)** Evaluar Bow con pesado de frecuencia.\n",
        "\n",
        "$w_{i,j} =$    número de ocurrencias de $t_j$ en $d_i$"
      ],
      "metadata": {
        "id": "0JjUPz4TrlKc"
      }
    },
    {
      "cell_type": "code",
      "source": [
        "def build_bow_trf(tr_txt,V,dict_indices):\n",
        "  BOW = np.zeros((len(tr_txt),len(V)),dtype = float)\n",
        "\n",
        "  cont_doc = 0\n",
        "  for tr in tr_txt:\n",
        "    fdist_doc = nltk.FreqDist(tokenizer.tokenize(tr))\n",
        "\n",
        "    for word in fdist_doc:\n",
        "      if word in dict_indices:\n",
        "        BOW[cont_doc, dict_indices[word]] = fdist_doc[word]\n",
        "    \n",
        "    cont_doc+=1\n",
        "  \n",
        "  return BOW"
      ],
      "metadata": {
        "id": "CSsbLiAksAYr"
      },
      "execution_count": null,
      "outputs": []
    },
    {
      "cell_type": "code",
      "source": [
        "BOW_tr = build_bow_trf(tr_txt, V, dict_indices)\n",
        "BOW_val = build_bow_trf(val_txt, V, dict_indices)"
      ],
      "metadata": {
        "id": "aCH7P7aesQZB"
      },
      "execution_count": null,
      "outputs": []
    },
    {
      "cell_type": "code",
      "source": [
        "tr_y = list(map(int, tr_y))\n",
        "parameters = {'C': [.05, .12, .25, .5, 1, 2, 4]}\n",
        "\n",
        "svr = svm.LinearSVC(class_weight= 'balanced')\n",
        "grid = GridSearchCV(estimator = svr, param_grid = parameters, n_jobs= 8, scoring= \"f1_macro\", cv = 5)\n",
        "\n",
        "grid.fit(BOW_tr, tr_y)\n",
        "y_pred = grid.predict(BOW_val)\n",
        "p,r,f,_ = precision_recall_fscore_support(val_y,y_pred,average='macro',pos_label=1)\n",
        "\n",
        "print(confusion_matrix(val_y,y_pred))\n",
        "print(metrics.classification_report(val_y,y_pred))"
      ],
      "metadata": {
        "colab": {
          "base_uri": "https://localhost:8080/"
        },
        "id": "qNBnrzcksVRW",
        "outputId": "d4f5be81-a50d-45fe-c0e1-dfef590535f1"
      },
      "execution_count": null,
      "outputs": [
        {
          "output_type": "stream",
          "name": "stdout",
          "text": [
            "[[334  63]\n",
            " [ 49 170]]\n",
            "              precision    recall  f1-score   support\n",
            "\n",
            "           0       0.87      0.84      0.86       397\n",
            "           1       0.73      0.78      0.75       219\n",
            "\n",
            "    accuracy                           0.82       616\n",
            "   macro avg       0.80      0.81      0.80       616\n",
            "weighted avg       0.82      0.82      0.82       616\n",
            "\n"
          ]
        }
      ]
    },
    {
      "cell_type": "markdown",
      "source": [
        "## **3)** Evaluar Bow con pesado *tfidf*\n",
        "\n",
        "$w_{i,j} = \\text{tf}(t_j,d_i) \\times \\text{idf}(t_j)$ , donde:\n",
        "\n",
        "- tf($t_j,d_i)$ indica las ocurrencias de $t_j$ en el documento $d_i$\n",
        "- $\\text{idf}(t_j) = \\log [N/\\text{df}(t_j)]$, donde df$(t_j)$ es el número de documentos que contienen el término $t_j$, y N es el número de documentos totales."
      ],
      "metadata": {
        "id": "PYW3mlivzfYY"
      }
    },
    {
      "cell_type": "code",
      "source": [
        "def build_bow_tfidf(tr_txt,V,dict_indices):\n",
        "  N = len(tr_txt)\n",
        "  BOW = np.zeros((N,len(V)),dtype = float)\n",
        "  df_aux = np.zeros(len(V), dtype = int)\n",
        "\n",
        "  cont_doc = 0\n",
        "  for tr in tr_txt:\n",
        "    fdist_doc = nltk.FreqDist(tokenizer.tokenize(tr))\n",
        "\n",
        "    for word in fdist_doc:\n",
        "      if word in dict_indices:\n",
        "        BOW[cont_doc, dict_indices[word]] = fdist_doc[word]\n",
        "        df_aux[dict_indices[word]] += 1\n",
        "    \n",
        "    cont_doc+=1\n",
        "  \n",
        "  for i in range(N):\n",
        "    for j in range(len(V)):\n",
        "      if df_aux[j] != 0:\n",
        "        BOW[i, j] = BOW[i, j]*np.log(N/df_aux[j])\n",
        "  \n",
        "  return BOW"
      ],
      "metadata": {
        "id": "j6rlCwco6JxP"
      },
      "execution_count": null,
      "outputs": []
    },
    {
      "cell_type": "code",
      "source": [
        "BOW_tr = build_bow_tfidf(tr_txt, V, dict_indices)\n",
        "BOW_val = build_bow_tfidf(val_txt, V, dict_indices)"
      ],
      "metadata": {
        "id": "eQ9gqECs5zxa"
      },
      "execution_count": null,
      "outputs": []
    },
    {
      "cell_type": "code",
      "source": [
        "tr_y = list(map(int, tr_y))\n",
        "parameters = {'C': [.05, .12, .25, .5, 1, 2, 4]}\n",
        "\n",
        "svr = svm.LinearSVC(class_weight= 'balanced')\n",
        "grid = GridSearchCV(estimator = svr, param_grid = parameters, n_jobs= 8, scoring= \"f1_macro\", cv = 5)\n",
        "\n",
        "grid.fit(BOW_tr, tr_y)\n",
        "y_pred = grid.predict(BOW_val)\n",
        "p,r,f,_ = precision_recall_fscore_support(val_y,y_pred,average='macro',pos_label=1)\n",
        "\n",
        "print(confusion_matrix(val_y,y_pred))\n",
        "print(metrics.classification_report(val_y,y_pred))"
      ],
      "metadata": {
        "colab": {
          "base_uri": "https://localhost:8080/"
        },
        "id": "_bVcgXjX_fHw",
        "outputId": "4b46a88a-c910-4a44-fabe-f00b833dccbc"
      },
      "execution_count": null,
      "outputs": [
        {
          "output_type": "stream",
          "name": "stdout",
          "text": [
            "[[319  78]\n",
            " [ 77 142]]\n",
            "              precision    recall  f1-score   support\n",
            "\n",
            "           0       0.81      0.80      0.80       397\n",
            "           1       0.65      0.65      0.65       219\n",
            "\n",
            "    accuracy                           0.75       616\n",
            "   macro avg       0.73      0.73      0.73       616\n",
            "weighted avg       0.75      0.75      0.75       616\n",
            "\n"
          ]
        }
      ]
    },
    {
      "cell_type": "markdown",
      "source": [
        "## **4)** Evaluar BoW con pesado binario normalizado l2\n",
        "\n",
        "Normalizamos ahora con la norma euclidiana la BoW obtenida con el pesado binario del ejercicio 1."
      ],
      "metadata": {
        "id": "KRZ7Kcy7GQkw"
      }
    },
    {
      "cell_type": "code",
      "source": [
        "def normal2(BOW):\n",
        "  for i in range(len(BOW)):\n",
        "    norm = np.linalg.norm(BOW[i])\n",
        "    for j in range(len(BOW[0])):\n",
        "      if BOW[i,j] != 0:\n",
        "        BOW[i,j] = BOW[i,j]/norm\n",
        "  return(BOW)\n",
        "\n",
        "BOW_tr = normal2(BOW_tr)\n",
        "BOW_val = normal2(BOW_val)"
      ],
      "metadata": {
        "id": "O5ogYIJuSmV7"
      },
      "execution_count": 47,
      "outputs": []
    },
    {
      "cell_type": "code",
      "source": [
        "tr_y = list(map(int, tr_y))\n",
        "parameters = {'C': [.05, .12, .25, .5, 1, 2, 4]}\n",
        "\n",
        "svr = svm.LinearSVC(class_weight= 'balanced')\n",
        "grid = GridSearchCV(estimator = svr, param_grid = parameters, n_jobs= 8, scoring= \"f1_macro\", cv = 5)\n",
        "\n",
        "grid.fit(BOW_tr, tr_y)\n",
        "y_pred = grid.predict(BOW_val)\n",
        "p,r,f,_ = precision_recall_fscore_support(val_y,y_pred,average='macro',pos_label=1)\n",
        "\n",
        "print(confusion_matrix(val_y,y_pred))\n",
        "print(metrics.classification_report(val_y,y_pred))"
      ],
      "metadata": {
        "colab": {
          "base_uri": "https://localhost:8080/"
        },
        "id": "JeVA8LNUUMv8",
        "outputId": "b835a233-b433-453c-91f8-aca64cdab51f"
      },
      "execution_count": null,
      "outputs": [
        {
          "output_type": "stream",
          "name": "stdout",
          "text": [
            "[[322  75]\n",
            " [ 49 170]]\n",
            "              precision    recall  f1-score   support\n",
            "\n",
            "           0       0.87      0.81      0.84       397\n",
            "           1       0.69      0.78      0.73       219\n",
            "\n",
            "    accuracy                           0.80       616\n",
            "   macro avg       0.78      0.79      0.79       616\n",
            "weighted avg       0.81      0.80      0.80       616\n",
            "\n"
          ]
        }
      ]
    },
    {
      "cell_type": "markdown",
      "source": [
        "## **5)** Evaluar BoW con pesado frecuencia normalizado l2\n",
        "\n",
        "Normalizamos ahora con la norma euclidiana la BoW obtenida con el pesado frecuencia del ejercicio 2."
      ],
      "metadata": {
        "id": "MIFxrtaXeIoM"
      }
    },
    {
      "cell_type": "code",
      "source": [
        "BOW_tr = normal2(BOW_tr)\n",
        "BOW_val = normal2(BOW_val)"
      ],
      "metadata": {
        "id": "kOBQHAoOeTk2"
      },
      "execution_count": null,
      "outputs": []
    },
    {
      "cell_type": "code",
      "source": [
        "tr_y = list(map(int, tr_y))\n",
        "parameters = {'C': [.05, .12, .25, .5, 1, 2, 4]}\n",
        "\n",
        "svr = svm.LinearSVC(class_weight= 'balanced')\n",
        "grid = GridSearchCV(estimator = svr, param_grid = parameters, n_jobs= 8, scoring= \"f1_macro\", cv = 5)\n",
        "\n",
        "grid.fit(BOW_tr, tr_y)\n",
        "y_pred = grid.predict(BOW_val)\n",
        "p,r,f,_ = precision_recall_fscore_support(val_y,y_pred,average='macro',pos_label=1)\n",
        "\n",
        "print(confusion_matrix(val_y,y_pred))\n",
        "print(metrics.classification_report(val_y,y_pred))"
      ],
      "metadata": {
        "colab": {
          "base_uri": "https://localhost:8080/"
        },
        "id": "dpu2C71iegEH",
        "outputId": "a47c539f-5f61-4c57-bac3-f4f2193026b5"
      },
      "execution_count": null,
      "outputs": [
        {
          "output_type": "stream",
          "name": "stdout",
          "text": [
            "[[321  76]\n",
            " [ 50 169]]\n",
            "              precision    recall  f1-score   support\n",
            "\n",
            "           0       0.87      0.81      0.84       397\n",
            "           1       0.69      0.77      0.73       219\n",
            "\n",
            "    accuracy                           0.80       616\n",
            "   macro avg       0.78      0.79      0.78       616\n",
            "weighted avg       0.80      0.80      0.80       616\n",
            "\n"
          ]
        }
      ]
    },
    {
      "cell_type": "markdown",
      "source": [
        "## **6)** Evaluar BoW con pesado tf-idf normalizado l2\n",
        "\n",
        "Normalizamos ahora con la norma euclidiana la BoW obtenida con el pesado tf-idf del ejercicio 3."
      ],
      "metadata": {
        "id": "sNp0B266gJA4"
      }
    },
    {
      "cell_type": "code",
      "source": [
        "BOW_tr = normal2(BOW_tr)\n",
        "BOW_val = normal2(BOW_val)"
      ],
      "metadata": {
        "id": "XlKtmtJBgRBm"
      },
      "execution_count": null,
      "outputs": []
    },
    {
      "cell_type": "code",
      "source": [
        "tr_y = list(map(int, tr_y))\n",
        "parameters = {'C': [.05, .12, .25, .5, 1, 2, 4]}\n",
        "\n",
        "svr = svm.LinearSVC(class_weight= 'balanced')\n",
        "grid = GridSearchCV(estimator = svr, param_grid = parameters, n_jobs= 8, scoring= \"f1_macro\", cv = 5)\n",
        "\n",
        "grid.fit(BOW_tr, tr_y)\n",
        "y_pred = grid.predict(BOW_val)\n",
        "p,r,f,_ = precision_recall_fscore_support(val_y,y_pred,average='macro',pos_label=1)\n",
        "\n",
        "print(confusion_matrix(val_y,y_pred))\n",
        "print(metrics.classification_report(val_y,y_pred))"
      ],
      "metadata": {
        "colab": {
          "base_uri": "https://localhost:8080/"
        },
        "id": "h-Gu3OjPgh50",
        "outputId": "1d779c99-0bbb-4621-9b4c-1198f6582b16"
      },
      "execution_count": null,
      "outputs": [
        {
          "output_type": "stream",
          "name": "stdout",
          "text": [
            "[[317  80]\n",
            " [ 48 171]]\n",
            "              precision    recall  f1-score   support\n",
            "\n",
            "           0       0.87      0.80      0.83       397\n",
            "           1       0.68      0.78      0.73       219\n",
            "\n",
            "    accuracy                           0.79       616\n",
            "   macro avg       0.77      0.79      0.78       616\n",
            "weighted avg       0.80      0.79      0.79       616\n",
            "\n"
          ]
        }
      ]
    },
    {
      "cell_type": "markdown",
      "source": [
        "## **7)** Mostramos a continuación una tabla con los resultados previamente descritos."
      ],
      "metadata": {
        "id": "FeSsOd113Rr5"
      }
    },
    {
      "cell_type": "markdown",
      "source": [
        "![resultados.png](data:image/png;base64,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)"
      ],
      "metadata": {
        "id": "b3ozlDUB1qQ2"
      }
    },
    {
      "cell_type": "markdown",
      "source": [
        "## **8)** Probamos ahora el pesado binario (la que mejor rendimiento ofreció) para probar con una BoW que contemple distintos tamaños de términos."
      ],
      "metadata": {
        "id": "sfC5gNnV8DK9"
      }
    },
    {
      "cell_type": "code",
      "source": [
        "BOW_tr = build_bow_trf(tr_txt, V, dict_indices)\n",
        "BOW_val = build_bow_trf(val_txt, V, dict_indices)"
      ],
      "metadata": {
        "id": "w8eAjjWe7p6C"
      },
      "execution_count": null,
      "outputs": []
    },
    {
      "cell_type": "code",
      "source": [
        "tr_y = list(map(int, tr_y))\n",
        "parameters = {'C': [.05, .12, .25, .5, 1, 2, 4]}\n",
        "\n",
        "svr = svm.LinearSVC(class_weight= 'balanced')\n",
        "grid = GridSearchCV(estimator = svr, param_grid = parameters, n_jobs= 8, scoring= \"f1_macro\", cv = 5)\n",
        "\n",
        "grid.fit(BOW_tr, tr_y)\n",
        "y_pred = grid.predict(BOW_val)\n",
        "p,r,f,_ = precision_recall_fscore_support(val_y,y_pred,average='macro',pos_label=1)\n",
        "\n",
        "print(confusion_matrix(val_y,y_pred))\n",
        "print(metrics.classification_report(val_y,y_pred))"
      ],
      "metadata": {
        "colab": {
          "base_uri": "https://localhost:8080/"
        },
        "id": "d58v0eFL7xE4",
        "outputId": "14f28c52-c12a-408e-c999-d26e2f1e37ed"
      },
      "execution_count": null,
      "outputs": [
        {
          "output_type": "stream",
          "name": "stdout",
          "text": [
            "[[334  63]\n",
            " [ 49 170]]\n",
            "              precision    recall  f1-score   support\n",
            "\n",
            "           0       0.87      0.84      0.86       397\n",
            "           1       0.73      0.78      0.75       219\n",
            "\n",
            "    accuracy                           0.82       616\n",
            "   macro avg       0.80      0.81      0.80       616\n",
            "weighted avg       0.82      0.82      0.82       616\n",
            "\n"
          ]
        }
      ]
    },
    {
      "cell_type": "markdown",
      "source": [
        "### A continuación mostramos los resultados obtenidos por pesado de frecuencia para una BoW de 500, 5000 y 7000 términos."
      ],
      "metadata": {
        "id": "Ss-gpoK_kQEB"
      }
    },
    {
      "cell_type": "markdown",
      "source": [
        "![resultados2.png](data:image/png;base64,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)"
      ],
      "metadata": {
        "id": "zl-nDnQqQJeh"
      }
    },
    {
      "cell_type": "code",
      "source": [
        "#@title .\n",
        "incorrect = []\n",
        "for e in zip(val_y,y_pred,range(len(val_y))):\n",
        "  if e[0] != e[1]:\n",
        "    incorrect += [e[2]]"
      ],
      "metadata": {
        "id": "Oa6hRI2Tqet9",
        "cellView": "form"
      },
      "execution_count": 65,
      "outputs": []
    },
    {
      "cell_type": "code",
      "source": [
        "#@title .\n",
        "for e in incorrect:\n",
        "  case = e\n",
        "  if \"madre\" in val_txt[case].strip():\n",
        "    print(\"Texto: \", val_txt[case].strip())\n",
        "    print(\"Truth: \", val_y[case])\n",
        "    print(\"Pred: \", y_pred[case])"
      ],
      "metadata": {
        "id": "1uQtCScsrQHo",
        "cellView": "form"
      },
      "execution_count": null,
      "outputs": []
    },
    {
      "cell_type": "markdown",
      "source": [
        "# **9)** Bolsa de emociones con EmoLex\n",
        "Tomamos las palabras de EmoLex, cada una con categorías de emociones diferentes y hacemos una bolsa de emociones con las palabras de los tweets enmascaradas con las emociones del el recurso. "
      ],
      "metadata": {
        "id": "-f9Zy9kEvYOJ"
      }
    },
    {
      "cell_type": "code",
      "source": [
        "path_corpus = \"/content/drive/MyDrive/Colab Notebooks/emociones/Spanish-NRC-EmoLex.txt\"\n",
        "\n",
        "emotions = {}\n",
        "with open(path_corpus,\"r\") as f_corpus:#, open(path_truth, \"r\") as f_truth:\n",
        "  gg = f_corpus.readline().split()\n",
        "  del gg[:2]\n",
        "  del gg[-2:]\n",
        "  for line in f_corpus:\n",
        "    t = line.split()\n",
        "    n = \" \".join(t[11:])\n",
        "    t = t[1:10]\n",
        "    emotions.update({n:[int(e) for e in t]})\n",
        "\n",
        "print(gg)"
      ],
      "metadata": {
        "colab": {
          "base_uri": "https://localhost:8080/"
        },
        "id": "rtPNKb7evbxk",
        "outputId": "80951cb7-4d05-498a-f41a-41b4cf8e6c2b"
      },
      "execution_count": null,
      "outputs": [
        {
          "output_type": "stream",
          "name": "stdout",
          "text": [
            "['anger', 'anticipation', 'disgust', 'fear', 'joy', 'negative', 'positive', 'sadness', 'surprise', 'trust']\n"
          ]
        }
      ]
    },
    {
      "cell_type": "code",
      "source": [
        "#Binario\n",
        "def build_bow_tr(tr_txt,gg,emotions):\n",
        "  BOW = np.zeros((len(tr_txt),len(gg)),dtype = float)\n",
        "\n",
        "  cont_doc = 0\n",
        "  for tr in tr_txt:\n",
        "    fdist_doc = nltk.FreqDist(tokenizer.tokenize(tr))\n",
        "\n",
        "    for word in fdist_doc:\n",
        "      if word in emotions:\n",
        "        t = emotions[word]\n",
        "        for i in range(len(t)):\n",
        "          if t[i] != 0:\n",
        "            BOW[cont_doc,i] = 1\n",
        "    \n",
        "    cont_doc+=1\n",
        "  \n",
        "  return BOW"
      ],
      "metadata": {
        "id": "c_roUsCdzR0c"
      },
      "execution_count": null,
      "outputs": []
    },
    {
      "cell_type": "code",
      "source": [
        "#Frecuencia\n",
        "def build_bow_trf(tr_txt,gg,emotions):\n",
        "  BOW = np.zeros((len(tr_txt),len(gg)),dtype = float)\n",
        "\n",
        "  cont_doc = 0\n",
        "  for tr in tr_txt:\n",
        "    fdist_doc = nltk.FreqDist(tokenizer.tokenize(tr))\n",
        "\n",
        "    for word in fdist_doc:\n",
        "      if word in emotions:\n",
        "        t = emotions[word]\n",
        "        for i in range(len(t)):\n",
        "          if t[i] != 0:\n",
        "            BOW[cont_doc,i] += 1\n",
        "    \n",
        "    cont_doc+=1\n",
        "  \n",
        "  return BOW"
      ],
      "metadata": {
        "id": "U6_T4Va4GWT-"
      },
      "execution_count": null,
      "outputs": []
    },
    {
      "cell_type": "code",
      "source": [
        "#tf-idf\n",
        "def build_bow_tfid(tr_txt,gg,emotions):\n",
        "  BOW = np.zeros((len(tr_txt),len(gg)),dtype = float)\n",
        "  df_aux = np.zeros(len(gg),dtype = int)\n",
        "\n",
        "  cont_doc = 0\n",
        "  for tr in tr_txt:\n",
        "    fdist_doc = nltk.FreqDist(tokenizer.tokenize(tr))\n",
        "\n",
        "    for word in fdist_doc:\n",
        "      if word in emotions:\n",
        "        t = emotions[word]\n",
        "        for i in range(len(t)):\n",
        "          if t[i] != 0:\n",
        "            BOW[cont_doc,i] += 1\n",
        "        for j in range(len(t)):\n",
        "          if BOW[cont_doc,j] != 0:\n",
        "            df_aux+=1\n",
        "    \n",
        "    cont_doc+=1\n",
        "  N = len(tr_txt)\n",
        "  for i in range(N):\n",
        "    for j in range(len(gg)):\n",
        "      if df_aux[j] != 0:\n",
        "        BOW[i, j] = BOW[i, j]*np.log(N/df_aux[j])\n",
        "  \n",
        "  return BOW"
      ],
      "metadata": {
        "id": "3DfRPGEKHyOz"
      },
      "execution_count": null,
      "outputs": []
    },
    {
      "cell_type": "code",
      "source": [
        "BOW_tr = build_bow_tr(tr_txt, gg,emotions)\n",
        "BOW_val = build_bow_tr(val_txt, gg,emotions)"
      ],
      "metadata": {
        "id": "nu04ZeGjCCIR"
      },
      "execution_count": null,
      "outputs": []
    },
    {
      "cell_type": "code",
      "source": [
        "BOW_tr = build_bow_trf(tr_txt, gg,emotions)\n",
        "BOW_val = build_bow_trf(val_txt, gg,emotions)"
      ],
      "metadata": {
        "id": "HdBEoeiTG-Bx"
      },
      "execution_count": null,
      "outputs": []
    },
    {
      "cell_type": "code",
      "source": [
        "BOW_tr = build_bow_tfid(tr_txt, gg,emotions)\n",
        "BOW_val = build_bow_tfid(val_txt, gg,emotions)"
      ],
      "metadata": {
        "id": "KaFVaspyKhR6"
      },
      "execution_count": null,
      "outputs": []
    },
    {
      "cell_type": "code",
      "source": [
        "def normal2(BOW):\n",
        "  for i in range(len(BOW)):\n",
        "    norm = np.linalg.norm(BOW[i])\n",
        "    if norm != 0:\n",
        "      BOW[i] = BOW[i]/norm\n",
        "  return(BOW)"
      ],
      "metadata": {
        "id": "nKLwJtmyFqUK"
      },
      "execution_count": null,
      "outputs": []
    },
    {
      "cell_type": "code",
      "source": [
        "BOW_tr = normal2(BOW_tr)\n",
        "BOW_val = normal2(BOW_val)"
      ],
      "metadata": {
        "id": "xlcni0aZFr-C"
      },
      "execution_count": null,
      "outputs": []
    },
    {
      "cell_type": "code",
      "source": [
        "tr_y = list(map(int, tr_y))\n",
        "parameters = {'C': [.05, .12, .25, .5, 1, 2, 4]}\n",
        "\n",
        "svr = svm.LinearSVC(class_weight= 'balanced')\n",
        "grid = GridSearchCV(estimator = svr, param_grid = parameters, n_jobs= 8, scoring= \"f1_macro\", cv = 5)\n",
        "\n",
        "grid.fit(BOW_tr, tr_y)\n",
        "y_pred = grid.predict(BOW_val)\n",
        "p,r,f,_ = precision_recall_fscore_support(val_y,y_pred,average='macro',pos_label=1)\n",
        "\n",
        "print(confusion_matrix(val_y,y_pred))\n",
        "print(metrics.classification_report(val_y,y_pred))"
      ],
      "metadata": {
        "colab": {
          "base_uri": "https://localhost:8080/"
        },
        "id": "WvYhg7urEWvD",
        "outputId": "f28f9822-9cac-4da5-e7f4-efd7d10d90c7"
      },
      "execution_count": null,
      "outputs": [
        {
          "output_type": "stream",
          "name": "stdout",
          "text": [
            "[[190 207]\n",
            " [ 75 144]]\n",
            "              precision    recall  f1-score   support\n",
            "\n",
            "           0       0.72      0.48      0.57       397\n",
            "           1       0.41      0.66      0.51       219\n",
            "\n",
            "    accuracy                           0.54       616\n",
            "   macro avg       0.56      0.57      0.54       616\n",
            "weighted avg       0.61      0.54      0.55       616\n",
            "\n"
          ]
        }
      ]
    },
    {
      "cell_type": "markdown",
      "source": [
        "## **10)** Después de realizar los tres pesados (normalizados) sobre la bolsa de emociones mostramos los resultados obtenidos. Vemos que en ninguno de los casos tenemos un clasificador decente con la estructura de la bolsa propuesta."
      ],
      "metadata": {
        "id": "YkMYbixUL-56"
      }
    },
    {
      "cell_type": "markdown",
      "source": [
        "![resultados3.png](data:image/png;base64,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)"
      ],
      "metadata": {
        "id": "BCAsMvWfMZb-"
      }
    },
    {
      "cell_type": "markdown",
      "source": [
        "\n",
        "\n",
        "---\n",
        "\n",
        "\n",
        "# **Recurso linguístico de Emociones Mexicano**\n",
        "## **1.** Tomamos el recurso *Spanish Emotion Lexicon* (SEL) para la realización de otra bolsa de emociones.\n"
      ],
      "metadata": {
        "id": "0dTrcg1uoWlV"
      }
    },
    {
      "cell_type": "code",
      "source": [
        "path_corpus = \"/content/drive/MyDrive/Colab Notebooks/emociones/SEL_full.txt\"\n",
        "\n",
        "emotions = {}\n",
        "with open(path_corpus,\"r\",encoding='ISO-8859-1') as f_corpus:#, open(path_truth, \"r\") as f_truth:\n",
        "  #gg = f_corpus.readline().split()\n",
        "  #del gg[:2]\n",
        "  #del gg[-2:]\n",
        "  for line in f_corpus:\n",
        "    t = line.split()\n",
        "    emotions.update({t[0]:[t[6],float(t[5])]})\n"
      ],
      "metadata": {
        "id": "tQhq_M2eHfZt"
      },
      "execution_count": 54,
      "outputs": []
    },
    {
      "cell_type": "code",
      "source": [
        "#Binario\n",
        "def build_bow_tr(tr_txt,emotions):\n",
        "  BOW = np.zeros((len(tr_txt),6),dtype = float)\n",
        "  aux = {\"Alegría\":0, \"Enojo\":1, \"Miedo\":2, \"Repulsión\":3, \"Sorpresa\":4, \"Tristeza\":5}\n",
        "\n",
        "  cont_doc = 0\n",
        "  for tr in tr_txt:\n",
        "    fdist_doc = nltk.FreqDist(tokenizer.tokenize(tr))\n",
        "\n",
        "    for word in fdist_doc:\n",
        "      if word in emotions.keys():\n",
        "        t = emotions[word]\n",
        "        BOW[cont_doc,aux[t[0]]] = 1\n",
        "    cont_doc+=1\n",
        "  \n",
        "  return BOW"
      ],
      "metadata": {
        "id": "d4QYjMdLxwrT"
      },
      "execution_count": 55,
      "outputs": []
    },
    {
      "cell_type": "code",
      "source": [
        "#Frecuencia\n",
        "def build_bow_trf(tr_txt,emotions):\n",
        "  BOW = np.zeros((len(tr_txt),6),dtype = float)\n",
        "  aux = {\"Alegría\":0, \"Enojo\":1, \"Miedo\":2, \"Repulsión\":3, \"Sorpresa\":4, \"Tristeza\":5}\n",
        "\n",
        "  cont_doc = 0\n",
        "  for tr in tr_txt:\n",
        "    fdist_doc = nltk.FreqDist(tokenizer.tokenize(tr))\n",
        "\n",
        "    for word in fdist_doc:\n",
        "      if word in emotions.keys():\n",
        "        t = emotions[word]\n",
        "        BOW[cont_doc,aux[t[0]]] += t[1]\n",
        "    \n",
        "    cont_doc+=1\n",
        "  \n",
        "  return BOW"
      ],
      "metadata": {
        "id": "63HCBmv25qzn"
      },
      "execution_count": 56,
      "outputs": []
    },
    {
      "cell_type": "code",
      "source": [
        "#tf-idf\n",
        "def build_bow_tfidf(tr_txt,emotions):\n",
        "  BOW = np.zeros((len(tr_txt),6),dtype = float)\n",
        "  aux = {\"Alegría\":0, \"Enojo\":1, \"Miedo\":2, \"Repulsión\":3, \"Sorpresa\":4, \"Tristeza\":5}\n",
        "  df_aux = np.zeros(6,dtype = int)\n",
        "\n",
        "  cont_doc = 0\n",
        "  for tr in tr_txt:\n",
        "    fdist_doc = nltk.FreqDist(tokenizer.tokenize(tr))\n",
        "\n",
        "    for word in fdist_doc:\n",
        "      if word in emotions.keys():\n",
        "        t = emotions[word]\n",
        "        BOW[cont_doc,aux[t[0]]] += t[1]\n",
        "    for j in range(6):\n",
        "      if BOW[cont_doc,j] != 0:\n",
        "        df_aux[j] += 1\n",
        "    \n",
        "    cont_doc+=1\n",
        "  \n",
        "  N = len(tr_txt)\n",
        "  for i in range(N):\n",
        "    for j in range(6):\n",
        "      BOW[i,j] *= np.log(N/df_aux[j])\n",
        "  return BOW"
      ],
      "metadata": {
        "id": "6_YdQOyN6Fl5"
      },
      "execution_count": 57,
      "outputs": []
    },
    {
      "cell_type": "code",
      "source": [
        "BOW_tr = build_bow_tr(tr_txt, emotions)\n",
        "BOW_val = build_bow_tr(val_txt, emotions)"
      ],
      "metadata": {
        "id": "Ggy5VUgLyt_z"
      },
      "execution_count": 58,
      "outputs": []
    },
    {
      "cell_type": "code",
      "source": [
        "BOW_tr = build_bow_trf(tr_txt, emotions)\n",
        "BOW_val = build_bow_trf(val_txt, emotions)"
      ],
      "metadata": {
        "id": "F0tlMU_M56S9"
      },
      "execution_count": 60,
      "outputs": []
    },
    {
      "cell_type": "code",
      "source": [
        "BOW_tr = build_bow_tfidf(tr_txt, emotions)\n",
        "BOW_val = build_bow_tfidf(val_txt, emotions)"
      ],
      "metadata": {
        "id": "NLlv2moL9bv6"
      },
      "execution_count": 62,
      "outputs": []
    },
    {
      "cell_type": "code",
      "source": [
        "tr_y = list(map(int, tr_y))\n",
        "parameters = {'C': [.05, .12, .25, .5, 1, 2, 4]}\n",
        "\n",
        "svr = svm.LinearSVC(class_weight= 'balanced')\n",
        "grid = GridSearchCV(estimator = svr, param_grid = parameters, n_jobs= 8, scoring= \"f1_macro\", cv = 5)\n",
        "\n",
        "grid.fit(BOW_tr, tr_y)\n",
        "y_pred = grid.predict(BOW_val)\n",
        "p,r,f,_ = precision_recall_fscore_support(val_y,y_pred,average='macro',pos_label=1)\n",
        "\n",
        "print(confusion_matrix(val_y,y_pred))\n",
        "print(metrics.classification_report(val_y,y_pred))"
      ],
      "metadata": {
        "colab": {
          "base_uri": "https://localhost:8080/"
        },
        "id": "HU8KpiX-zldc",
        "outputId": "9145e0ac-5385-4570-f95b-8b7ee1742710"
      },
      "execution_count": 63,
      "outputs": [
        {
          "output_type": "stream",
          "name": "stdout",
          "text": [
            "[[348  49]\n",
            " [174  45]]\n",
            "              precision    recall  f1-score   support\n",
            "\n",
            "           0       0.67      0.88      0.76       397\n",
            "           1       0.48      0.21      0.29       219\n",
            "\n",
            "    accuracy                           0.64       616\n",
            "   macro avg       0.57      0.54      0.52       616\n",
            "weighted avg       0.60      0.64      0.59       616\n",
            "\n"
          ]
        }
      ]
    },
    {
      "cell_type": "markdown",
      "source": [
        "## Resultados del los tres pesados en la bolsa de emociones SEL sin normalizar:\n",
        "![result.png](data:image/png;base64,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)"
      ],
      "metadata": {
        "id": "BaVa0Tp5h1e0"
      }
    },
    {
      "cell_type": "markdown",
      "source": [
        "## **2)** El coeficiente PFA fue usado en el pesado de frecuencia y en el Tf-idf en el conteo de términos en el documento $d_i$. En vez de sumar un 1 a la emoción por cada término en el documento $d_i$ se sumó el correspondiente PFA del término."
      ],
      "metadata": {
        "id": "lH_Jvs-bkTz8"
      }
    },
    {
      "cell_type": "markdown",
      "source": [
        "\n",
        "\n",
        "---\n",
        "\n",
        "\n",
        "# **Uso de bigramas**\n",
        "\n",
        "## **1)** Podemos usar los 1000 bigramas más frecuentes para concatenar su BoB con la BoW con pesado de frecuencia para intentar conseguir un mejor modelo."
      ],
      "metadata": {
        "id": "RfS82OhLC47s"
      }
    },
    {
      "cell_type": "code",
      "source": [
        "from nltk.text import Text\n",
        "txtt = tokenizer.tokenize(\". \".join(tr_txt).lower())\n",
        "txtt = Text(txtt)"
      ],
      "metadata": {
        "id": "ET1tYwHI-2nL"
      },
      "execution_count": 12,
      "outputs": []
    },
    {
      "cell_type": "code",
      "source": [
        "from nltk.collocations import *\n",
        "bigram = nltk.collocations.BigramAssocMeasures()\n",
        "finder = BigramCollocationFinder.from_words(txtt)\n",
        "bigramas = finder.nbest(bigram.raw_freq, 1000)\n",
        "bigramas[:15]"
      ],
      "metadata": {
        "colab": {
          "base_uri": "https://localhost:8080/"
        },
        "id": "2T-5ju39FQlL",
        "outputId": "ab427fb2-49b7-44ad-8677-06339a918e99"
      },
      "execution_count": 13,
      "outputs": [
        {
          "output_type": "execute_result",
          "data": {
            "text/plain": [
              "[('!', '!'),\n",
              " ('.', '@usuario'),\n",
              " ('la', 'verga'),\n",
              " ('a', 'la'),\n",
              " ('!', '.'),\n",
              " ('de', 'la'),\n",
              " ('@usuario', '@usuario'),\n",
              " ('que', 'no'),\n",
              " ('que', 'me'),\n",
              " ('?', '.'),\n",
              " ('.', 'no'),\n",
              " ('la', 'madre'),\n",
              " ('los', 'putos'),\n",
              " ('en', 'la'),\n",
              " ('😂', '😂')]"
            ]
          },
          "metadata": {},
          "execution_count": 13
        }
      ]
    },
    {
      "cell_type": "code",
      "source": [
        "#Bolsa de bigramas\n",
        "def build_bow_trfb(tr_txt,bigramas):\n",
        "  BOW = np.zeros((len(tr_txt),len(bigramas)),dtype = float)\n",
        "  cont_doc = 0\n",
        "\n",
        "  for tr in tr_txt:\n",
        "    doc = tokenizer.tokenize(tr)\n",
        "\n",
        "    for word1,word2 in nltk.pairwise(doc):\n",
        "  \n",
        "      if (word1,word2) in bigramas:\n",
        "        BOW[cont_doc, bigramas.index((word1,word2))] += 1    \n",
        "    cont_doc+=1\n",
        "  \n",
        "  return BOW"
      ],
      "metadata": {
        "id": "xEPBI-s1GmF2"
      },
      "execution_count": 44,
      "outputs": []
    },
    {
      "cell_type": "code",
      "source": [
        "#Bolsa de palabras con pesado de frecuencia\n",
        "def build_bow_trf(tr_txt,V,dict_indices):\n",
        "  BOW = np.zeros((len(tr_txt),len(V)),dtype = float)\n",
        "\n",
        "  cont_doc = 0\n",
        "  for tr in tr_txt:\n",
        "    fdist_doc = nltk.FreqDist(tokenizer.tokenize(tr))\n",
        "\n",
        "    for word in fdist_doc:\n",
        "      if word in dict_indices:\n",
        "        BOW[cont_doc, dict_indices[word]] = fdist_doc[word]\n",
        "    \n",
        "    cont_doc+=1\n",
        "  \n",
        "  return BOW"
      ],
      "metadata": {
        "id": "T9tUoZTxLEJ9"
      },
      "execution_count": 33,
      "outputs": []
    },
    {
      "cell_type": "code",
      "source": [
        "BOW_tr_b = build_bow_trfb(tr_txt,bigramas)\n",
        "BOW_val_b = build_bow_trfb(val_txt,bigramas)\n",
        "BOW_tr = build_bow_trf(tr_txt, V, dict_indices)\n",
        "BOW_val = build_bow_trf(val_txt, V, dict_indices)\n",
        "BOW_tr = np.concatenate((BOW_tr,BOW_tr_b),axis = 1)\n",
        "BOW_val = np.concatenate((BOW_val,BOW_val_b),axis = 1)\n",
        "BOW_tr = normal2(BOW_tr)\n",
        "BOW_val = normal2(BOW_val)\n",
        "BOW_tr.shape"
      ],
      "metadata": {
        "colab": {
          "base_uri": "https://localhost:8080/"
        },
        "id": "LO4ZWmjVIytA",
        "outputId": "f89c5aae-a20a-411b-d094-d153fa591974"
      },
      "execution_count": 48,
      "outputs": [
        {
          "output_type": "execute_result",
          "data": {
            "text/plain": [
              "(5544, 6000)"
            ]
          },
          "metadata": {},
          "execution_count": 48
        }
      ]
    },
    {
      "cell_type": "code",
      "source": [
        "tr_y = list(map(int, tr_y))\n",
        "parameters = {'C': [.05, .12, .25, .5, 1, 2, 4]}\n",
        "\n",
        "svr = svm.LinearSVC(class_weight= 'balanced')\n",
        "grid = GridSearchCV(estimator = svr, param_grid = parameters, n_jobs= 8, scoring= \"f1_macro\", cv = 5)\n",
        "\n",
        "grid.fit(BOW_tr, tr_y)\n",
        "y_pred = grid.predict(BOW_val)\n",
        "p,r,f,_ = precision_recall_fscore_support(val_y,y_pred,average='macro',pos_label=1)\n",
        "\n",
        "print(confusion_matrix(val_y,y_pred))\n",
        "print(metrics.classification_report(val_y,y_pred))"
      ],
      "metadata": {
        "colab": {
          "base_uri": "https://localhost:8080/"
        },
        "id": "sU3jQgBcJXoW",
        "outputId": "cc2a4ca6-f42b-44cc-a861-f1a73ea486c6"
      },
      "execution_count": 49,
      "outputs": [
        {
          "output_type": "stream",
          "name": "stdout",
          "text": [
            "[[332  65]\n",
            " [ 48 171]]\n",
            "              precision    recall  f1-score   support\n",
            "\n",
            "           0       0.87      0.84      0.85       397\n",
            "           1       0.72      0.78      0.75       219\n",
            "\n",
            "    accuracy                           0.82       616\n",
            "   macro avg       0.80      0.81      0.80       616\n",
            "weighted avg       0.82      0.82      0.82       616\n",
            "\n"
          ]
        }
      ]
    },
    {
      "cell_type": "markdown",
      "source": [
        "## **2)** Concatenaremos ahora la bolsa de palabras (5000 términos) con pesado de frecuencia con la de bigramas y añadiremos también las dos bolsas de emociones SEL, al final normalizamos y logramos (aunque sea por poco) obtener el modelo más preciso de todo el documento."
      ],
      "metadata": {
        "id": "GgiT6ZH5Y7Hj"
      }
    },
    {
      "cell_type": "code",
      "source": [
        "#Frecuencia\n",
        "def build_bow_trfemo(tr_txt,emotions):\n",
        "  BOW = np.zeros((len(tr_txt),6),dtype = float)\n",
        "  aux = {\"Alegría\":0, \"Enojo\":1, \"Miedo\":2, \"Repulsión\":3, \"Sorpresa\":4, \"Tristeza\":5}\n",
        "\n",
        "  cont_doc = 0\n",
        "  for tr in tr_txt:\n",
        "    fdist_doc = nltk.FreqDist(tokenizer.tokenize(tr))\n",
        "\n",
        "    for word in fdist_doc:\n",
        "      if word in emotions.keys():\n",
        "        t = emotions[word]\n",
        "        BOW[cont_doc,aux[t[0]]] += t[1]\n",
        "    \n",
        "    cont_doc+=1\n",
        "  \n",
        "  return BOW"
      ],
      "metadata": {
        "id": "3ddV6qo2MgqL"
      },
      "execution_count": 51,
      "outputs": []
    },
    {
      "cell_type": "code",
      "source": [
        "BOW_tr_b = build_bow_trfb(tr_txt,bigramas)\n",
        "BOW_val_b = build_bow_trfb(val_txt,bigramas)\n",
        "BOW_tr_em = build_bow_trfemo(tr_txt,emotions)\n",
        "BOW_val_em = build_bow_trfemo(val_txt,emotions)\n",
        "BOW_tr = build_bow_trf(tr_txt, V, dict_indices)\n",
        "BOW_val = build_bow_trf(val_txt, V, dict_indices)\n",
        "BOW_tr = np.concatenate((BOW_tr,BOW_tr_b,BOW_tr_em),axis = 1)\n",
        "BOW_val = np.concatenate((BOW_val,BOW_val_b,BOW_val_em),axis = 1)\n",
        "BOW_tr = normal2(BOW_tr)\n",
        "BOW_val = normal2(BOW_val)\n",
        "BOW_tr.shape"
      ],
      "metadata": {
        "colab": {
          "base_uri": "https://localhost:8080/"
        },
        "id": "GIdzpg8KZl6e",
        "outputId": "71e0ac90-c47a-4762-9018-a2c45c9226d9"
      },
      "execution_count": 52,
      "outputs": [
        {
          "output_type": "execute_result",
          "data": {
            "text/plain": [
              "(5544, 6006)"
            ]
          },
          "metadata": {},
          "execution_count": 52
        }
      ]
    },
    {
      "cell_type": "code",
      "source": [
        "tr_y = list(map(int, tr_y))\n",
        "parameters = {'C': [.05, .12, .25, .5, 1, 2, 4]}\n",
        "\n",
        "svr = svm.LinearSVC(class_weight= 'balanced')\n",
        "grid = GridSearchCV(estimator = svr, param_grid = parameters, n_jobs= 8, scoring= \"f1_macro\", cv = 5)\n",
        "\n",
        "grid.fit(BOW_tr, tr_y)\n",
        "y_pred = grid.predict(BOW_val)\n",
        "p,r,f,_ = precision_recall_fscore_support(val_y,y_pred,average='macro',pos_label=1)\n",
        "\n",
        "print(confusion_matrix(val_y,y_pred))\n",
        "print(metrics.classification_report(val_y,y_pred))"
      ],
      "metadata": {
        "colab": {
          "base_uri": "https://localhost:8080/"
        },
        "id": "uTyC2XpJaGWP",
        "outputId": "a01e7fef-dde0-48f8-d8aa-bdeefd50c2d9"
      },
      "execution_count": 53,
      "outputs": [
        {
          "output_type": "stream",
          "name": "stdout",
          "text": [
            "[[332  65]\n",
            " [ 47 172]]\n",
            "              precision    recall  f1-score   support\n",
            "\n",
            "           0       0.88      0.84      0.86       397\n",
            "           1       0.73      0.79      0.75       219\n",
            "\n",
            "    accuracy                           0.82       616\n",
            "   macro avg       0.80      0.81      0.81       616\n",
            "weighted avg       0.82      0.82      0.82       616\n",
            "\n"
          ]
        }
      ]
    },
    {
      "cell_type": "markdown",
      "source": [
        "## **3)** Podemos observar entre otras cosas, que el pesado *tfidf* no ofreció una buena alternativa en ninguna de las bolsas, probablemente debido a que en este caso específico de detección de agresividad añadir el peso de las palabras ausentes no aporta mucho, al contrario, perjudica.\n",
        "## También vemos que los métodos de bolsas de palabras en apariencia más sencillos fueron los que obtuvieron mejores resultados, y aunque concatenar los 1000 bigramas más frecuentes ayudó a mejorar **mínimamente** el modelo de la bolsa de palabras con pesado de frecuencia, así como el experimento de concatenar la bolsa de emociones no vale la pena realmente el cómputo extra realizado, prácticamente estás triplicando el esfuerzo de cómputo por una mejora casi mínima."
      ],
      "metadata": {
        "id": "n5wWIHEUljqj"
      }
    }
  ]
}