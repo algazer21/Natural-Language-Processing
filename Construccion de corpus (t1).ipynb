{
 "cells": [
  {
   "cell_type": "markdown",
   "id": "3bcef362",
   "metadata": {},
   "source": [
    "# Tarea 1: Python.\n",
    "# Procesamiento de lenguaje natural\n",
    "## Alan García Zermeño\n",
    "### CIMAT 31/01/2023"
   ]
  },
  {
   "cell_type": "markdown",
   "id": "b9ac15ac",
   "metadata": {},
   "source": [
    "## 1- Construcción de un Corpus\n",
    "\n",
    "Carpeta de Drive con el corpus de conferencias de AMLO hasta la fecha:\n",
    "\n",
    "https://drive.google.com/drive/folders/16pij6WRtI_BpKAqq-ZL3H5Jm_LTBg1ae?usp=sharing"
   ]
  },
  {
   "cell_type": "markdown",
   "id": "a3165c96",
   "metadata": {},
   "source": [
    "## 2- Vistazo a los datos\n",
    "\n",
    "### 1.-Guardamos todas las conferencias en un solo _string_ en el ciclo _for_, después le aplicamos un _split_ para generar una sola lista con las palabras de todas las conferencias del corpus. En cada una de las coferencias eliminamos los primeros 800 caracteres, que no nos sirven.\n",
    "\n",
    "### 2.-Imprimimos la cantidad de palabras que encontramos en todas las conferencias."
   ]
  },
  {
   "cell_type": "code",
   "execution_count": 4,
   "id": "e60a931f",
   "metadata": {},
   "outputs": [],
   "source": [
    "import nltk"
   ]
  },
  {
   "cell_type": "code",
   "execution_count": 8,
   "id": "aa965ce9",
   "metadata": {},
   "outputs": [
    {
     "data": {
      "text/plain": [
       "11001741"
      ]
     },
     "execution_count": 8,
     "metadata": {},
     "output_type": "execute_result"
    }
   ],
   "source": [
    "import glob\n",
    "\n",
    "amloConf = \"\"\n",
    "for f_pagina in glob.glob(\"./estenograficas_limpias_por_fecha/*\"):\n",
    "    amloConf += (open(f_pagina,\"r\",encoding = \"utf-8\").read())[800:]\n",
    "\n",
    "amloConfTok = amloConf.split()\n",
    "len(amloConfTok)"
   ]
  },
  {
   "cell_type": "markdown",
   "id": "ecb17bd9",
   "metadata": {},
   "source": [
    "### 3.- El vocabulario lo podemos representar como el número de palabras únicas que se usaron en todas las conferencias:"
   ]
  },
  {
   "cell_type": "code",
   "execution_count": 64,
   "id": "86a64a34",
   "metadata": {},
   "outputs": [
    {
     "data": {
      "text/plain": [
       "203888"
      ]
     },
     "execution_count": 64,
     "metadata": {},
     "output_type": "execute_result"
    }
   ],
   "source": [
    "len(set(amloConfTok))"
   ]
  },
  {
   "cell_type": "markdown",
   "id": "cb570dc4",
   "metadata": {},
   "source": [
    "### 4.- La riqueza del vocabulario la podemos medir como la razón entre el número de palabras totales y el número de palabras únicas. Entre más grande sea la razón, más repetición de palabras encontramos, menos riqueza del vocabulario. En este caso vemos que parece haber muchas palabras que se repiten en las conferencias."
   ]
  },
  {
   "cell_type": "code",
   "execution_count": 65,
   "id": "58633fe9",
   "metadata": {},
   "outputs": [
    {
     "data": {
      "text/plain": [
       "53.95972788982186"
      ]
     },
     "execution_count": 65,
     "metadata": {},
     "output_type": "execute_result"
    }
   ],
   "source": [
    "len(amloConfTok)/len(set(amloConfTok))"
   ]
  },
  {
   "cell_type": "markdown",
   "id": "c2d141f3",
   "metadata": {},
   "source": [
    "### 5.- Realizamos el mismo proceso anterior pero con todo el texto en minúsculas."
   ]
  },
  {
   "cell_type": "code",
   "execution_count": 84,
   "id": "0ffc99e5",
   "metadata": {},
   "outputs": [
    {
     "data": {
      "text/plain": [
       "11001741"
      ]
     },
     "execution_count": 84,
     "metadata": {},
     "output_type": "execute_result"
    }
   ],
   "source": [
    "amloConfTok = (amloConf.lower()).split()\n",
    "len(amloConfTok)"
   ]
  },
  {
   "cell_type": "code",
   "execution_count": 85,
   "id": "cac0a6b6",
   "metadata": {},
   "outputs": [
    {
     "data": {
      "text/plain": [
       "187389"
      ]
     },
     "execution_count": 85,
     "metadata": {},
     "output_type": "execute_result"
    }
   ],
   "source": [
    "len(set(amloConfTok))"
   ]
  },
  {
   "cell_type": "code",
   "execution_count": 86,
   "id": "a64e8aad",
   "metadata": {},
   "outputs": [
    {
     "data": {
      "text/plain": [
       "58.710708739573825"
      ]
     },
     "execution_count": 86,
     "metadata": {},
     "output_type": "execute_result"
    }
   ],
   "source": [
    "len(amloConfTok)/len(set(amloConfTok))"
   ]
  },
  {
   "cell_type": "markdown",
   "id": "a8b9a36d",
   "metadata": {},
   "source": [
    "Al tokenizar todo en minúsculas vemos que en el primer ejercicio estaba detectando como _diferentes_ a la misma palabra cuando estaba en minúscula o cuando estaba en mayúscula, por ello, el vocabulario en minúsculas es todavía menor y la riqueza del vocabulario es por tanto aún más limitada."
   ]
  },
  {
   "cell_type": "markdown",
   "id": "bccbf631",
   "metadata": {},
   "source": [
    "### 6- Realizamos el mismo proceso ahora con el tokenizador de NLTK, donde usamos una expresión regular para quedarnos solo con palabras de letras minúsculas o mayúsculas.\n",
    "\n",
    "Obviamente aquí nos encontraremos un número de tokens menores, sin embargo, la riqueza del vocabulario es incluso peor, ya que el tokenizador encuentra muchas palabas iguales."
   ]
  },
  {
   "cell_type": "code",
   "execution_count": 2,
   "id": "bd53e3ad",
   "metadata": {},
   "outputs": [],
   "source": [
    "from nltk import RegexpTokenizer\n",
    "\n",
    "tokenizer = RegexpTokenizer(r'[a-zA-ZñÑáéíóúüÜÁÉÍÓÚ]+')\n",
    "amloConfTok = tokenizer.tokenize(amloConf)"
   ]
  },
  {
   "cell_type": "code",
   "execution_count": 3,
   "id": "3b51ca31",
   "metadata": {},
   "outputs": [
    {
     "data": {
      "text/plain": [
       "10866629"
      ]
     },
     "execution_count": 3,
     "metadata": {},
     "output_type": "execute_result"
    }
   ],
   "source": [
    "len(amloConfTok)"
   ]
  },
  {
   "cell_type": "code",
   "execution_count": 4,
   "id": "c37f3bbd",
   "metadata": {},
   "outputs": [
    {
     "data": {
      "text/plain": [
       "88127"
      ]
     },
     "execution_count": 4,
     "metadata": {},
     "output_type": "execute_result"
    }
   ],
   "source": [
    "len(set(amloConfTok))"
   ]
  },
  {
   "cell_type": "code",
   "execution_count": 5,
   "id": "a24f9a20",
   "metadata": {},
   "outputs": [
    {
     "data": {
      "text/plain": [
       "123.30646680359027"
      ]
     },
     "execution_count": 5,
     "metadata": {},
     "output_type": "execute_result"
    }
   ],
   "source": [
    "len(amloConfTok)/len(set(amloConfTok))"
   ]
  },
  {
   "cell_type": "code",
   "execution_count": 7,
   "id": "0846c8f8",
   "metadata": {},
   "outputs": [
    {
     "data": {
      "text/plain": [
       "[('de', 607312),\n",
       " ('que', 424392),\n",
       " ('la', 336262),\n",
       " ('a', 279435),\n",
       " ('el', 267589),\n",
       " ('en', 262613),\n",
       " ('y', 244519),\n",
       " ('se', 185266),\n",
       " ('los', 159159),\n",
       " ('no', 136912),\n",
       " ('es', 136471),\n",
       " ('lo', 100306),\n",
       " ('con', 100033),\n",
       " ('del', 94401),\n",
       " ('para', 93458),\n",
       " ('un', 92832),\n",
       " ('las', 88833),\n",
       " ('por', 86386),\n",
       " ('una', 72356),\n",
       " ('ya', 53550),\n",
       " ('más', 51074),\n",
       " ('porque', 49602),\n",
       " ('al', 48045),\n",
       " ('Y', 43648),\n",
       " ('como', 41971),\n",
       " ('pero', 41006),\n",
       " ('hay', 40970),\n",
       " ('también', 38925),\n",
       " ('está', 38414),\n",
       " ('este', 36418)]"
      ]
     },
     "execution_count": 7,
     "metadata": {},
     "output_type": "execute_result"
    }
   ],
   "source": [
    "from nltk import FreqDist\n",
    "\n",
    "frqD = FreqDist(amloConfTok)\n",
    "frqD.most_common(30)"
   ]
  },
  {
   "cell_type": "markdown",
   "id": "bf4d6bfc",
   "metadata": {},
   "source": [
    "### 7- Usamos ahora el _TweetTokenizer()_ haciendo todas las palabras minúsculas."
   ]
  },
  {
   "cell_type": "code",
   "execution_count": 170,
   "id": "ab9a7514",
   "metadata": {},
   "outputs": [
    {
     "data": {
      "text/plain": [
       "12740587"
      ]
     },
     "execution_count": 170,
     "metadata": {},
     "output_type": "execute_result"
    }
   ],
   "source": [
    "from nltk.tokenize import TweetTokenizer\n",
    "\n",
    "tknt = TweetTokenizer()\n",
    "amloConfTok = tknt.tokenize(amloConf.lower())\n",
    "len(amloConfTok)"
   ]
  },
  {
   "cell_type": "code",
   "execution_count": 13,
   "id": "9883862a",
   "metadata": {},
   "outputs": [
    {
     "data": {
      "text/plain": [
       "82450"
      ]
     },
     "execution_count": 13,
     "metadata": {},
     "output_type": "execute_result"
    }
   ],
   "source": [
    "len(set(amloConfTok))"
   ]
  },
  {
   "cell_type": "code",
   "execution_count": 14,
   "id": "6ee779fd",
   "metadata": {},
   "outputs": [
    {
     "data": {
      "text/plain": [
       "154.52500909642208"
      ]
     },
     "execution_count": 14,
     "metadata": {},
     "output_type": "execute_result"
    }
   ],
   "source": [
    "len(amloConfTok)/len(set(amloConfTok))"
   ]
  },
  {
   "cell_type": "markdown",
   "id": "f79d5543",
   "metadata": {},
   "source": [
    "## 3- Funciones NLTK\n",
    "\n",
    "### 1.- Usando la función _concordance()_:"
   ]
  },
  {
   "cell_type": "code",
   "execution_count": 9,
   "id": "1580ae3c",
   "metadata": {},
   "outputs": [],
   "source": [
    "import nltk.corpus\n",
    "from nltk.text import Text\n",
    "\n",
    "amloConfTok = Text(amloConfTok)"
   ]
  },
  {
   "cell_type": "code",
   "execution_count": 173,
   "id": "31d28edf",
   "metadata": {},
   "outputs": [
    {
     "name": "stdout",
     "output_type": "stream",
     "text": [
      "Displaying 5 of 2186 matches:\n",
      "atal y fallida durante el periodo neoliberal , sobre todo a partir de que se d\n",
      "autosuficientes antes del periodo neoliberal , y ahora estamos comprando la mi\n",
      "da su capacidad , y en el periodo neoliberal , inclusive , las paraban o las s\n",
      " , que participaron en el periodo neoliberal y causaron esta crisis de méxico \n",
      "tunidad de estudiar.en el periodo neoliberal una de las características , algo\n"
     ]
    }
   ],
   "source": [
    "amloConfTok.concordance(\"neoliberal\",lines = 5)"
   ]
  },
  {
   "cell_type": "code",
   "execution_count": 91,
   "id": "3207b3ba",
   "metadata": {},
   "outputs": [
    {
     "name": "stdout",
     "output_type": "stream",
     "text": [
      "Displaying 5 of 1922 matches:\n",
      "sturas y como le tenemos respeto y confianza al pueblo sabemos que no hay ningu\n",
      "examen de nuevo , por el examen de confianza y se integraron para fortalecer la\n",
      "modificaciones en los controles de confianza de los cuerpos de seguridad en los\n",
      "del presupuesto se les protege con confianza . increíble . todo esto se tiene q\n",
      "ciativa de reforma , es una ley de confianza ciudadana para que la supervisión \n"
     ]
    }
   ],
   "source": [
    "amloConfTok.concordance(\"confianza\", lines = 5)"
   ]
  },
  {
   "cell_type": "code",
   "execution_count": 174,
   "id": "bebe083c",
   "metadata": {},
   "outputs": [
    {
     "name": "stdout",
     "output_type": "stream",
     "text": [
      "Displaying 5 of 10436 matches:\n",
      "federativas y las instituciones de seguridad social con la secretaría de salud \n",
      "o la efectividad de la vacuna y la seguridad de la vacuna . se presentará en es\n",
      " medidas de control sanitario , de seguridad sanitaria , van encaminadas a eso \n",
      "ógicas incluso , a los márgenes de seguridad esperados de acuerdo a la informac\n",
      "a de salud sobre sus protocolos de seguridad sanitaria . la secretaría de salud\n"
     ]
    }
   ],
   "source": [
    "amloConfTok.concordance(\"seguridad\",lines = 5)"
   ]
  },
  {
   "cell_type": "code",
   "execution_count": 46,
   "id": "c3446f96",
   "metadata": {},
   "outputs": [
    {
     "name": "stdout",
     "output_type": "stream",
     "text": [
      "Displaying 5 of 4918 matches:\n",
      "bi , el instituto de salud para el bienestar , que coordina toda esta capacidad\n",
      "id - 19 instituto de salud para el bienestar jóvenes construyendo el futuro lic\n",
      "ridad y la violencia , el que haya bienestar , que se atienda a los jóvenes . e\n",
      "id - 19 instituto de salud para el bienestar jóvenes construyendo el futuro lic\n",
      " jóvenes tengan trabajo , que haya bienestar . eso es lo que se está proponiend\n"
     ]
    }
   ],
   "source": [
    "amloConfTok.concordance(\"bienestar\",lines = 5)"
   ]
  },
  {
   "cell_type": "code",
   "execution_count": 54,
   "id": "fc0da64c",
   "metadata": {},
   "outputs": [
    {
     "name": "stdout",
     "output_type": "stream",
     "text": [
      "Displaying 5 of 2731 matches:\n",
      " y , también , es un proceso de transformación que va a llevar su tiempo . ya \n",
      "as facultades , impulsando esta transformación . por ejemplo , en los nuevos m\n",
      " llevar a cabo los cambios , la transformación que requiere nuestro país . est\n",
      "abajando más en el inicio de la transformación , en el inicio de los programas\n",
      "bien todos . ¿ qué es la cuarta transformación ? portarnos bien , que se acabe\n"
     ]
    }
   ],
   "source": [
    "amloConfTok.concordance(\"transformación\",lines = 5)"
   ]
  },
  {
   "cell_type": "markdown",
   "id": "7f12f559",
   "metadata": {},
   "source": [
    "### 2.- Palabras similares usadas con _ejército_:\n",
    "\n",
    "Una particularidad del gobierno de AMLO ha sido el poder que le ha dado al ejército, por lo que es normal que use esa palabra en un contexto similar a \"pueblo\", \"bienestar\", palabras con las que suele defender sus motivos de intervención del ejército, también es normal encontrar \"aeropuerto\", ya que el Felipe Ángeles está bajo el mando del ejército.\n",
    "Respeto a los contextos comunes, vemos que en su mayoría son artículos y preposiciónes que tal vez no aporten mucho, pero llama la atención que los contextos comunes de \"ejército\"-\"pueblo\" y \"ejército\"-\"bienestar\" sean tan similares."
   ]
  },
  {
   "cell_type": "code",
   "execution_count": 104,
   "id": "403ad4cc",
   "metadata": {},
   "outputs": [
    {
     "name": "stdout",
     "output_type": "stream",
     "text": [
      "gobierno país estado pueblo presidente año presupuesto día mundo que y\n",
      "trabajo tema programa tiempo aeropuerto caso dinero bienestar\n",
      "gobernador\n"
     ]
    }
   ],
   "source": [
    "amloConfTok.similar(\"ejército\")"
   ]
  },
  {
   "cell_type": "code",
   "execution_count": 106,
   "id": "e976b169",
   "metadata": {},
   "outputs": [
    {
     "name": "stdout",
     "output_type": "stream",
     "text": [
      "del_y el_y del_de el_mexicano del_mexicano el_la del_en al_y el_de\n",
      "un_de al_a del_la del_se del_que el_no el_en al_para el_se el_como\n",
      "el_que\n"
     ]
    }
   ],
   "source": [
    "amloConfTok.common_contexts([\"ejército\",\"pueblo\"])"
   ]
  },
  {
   "cell_type": "code",
   "execution_count": 108,
   "id": "aede0860",
   "metadata": {},
   "outputs": [
    {
     "name": "stdout",
     "output_type": "stream",
     "text": [
      "del_y el_y del_de el_la del_en al_y el_de al_a del_la del_se del_que\n",
      "el_no el_en el_se el_como el_que el_para el_a del_para del_a\n"
     ]
    }
   ],
   "source": [
    "amloConfTok.common_contexts([\"ejército\",\"bienestar\"])"
   ]
  },
  {
   "cell_type": "code",
   "execution_count": 111,
   "id": "615b4639",
   "metadata": {},
   "outputs": [
    {
     "name": "stdout",
     "output_type": "stream",
     "text": [
      "del_y el_y del_de el_la del_en al_y el_de un_de al_a del_la del_se\n",
      "del_que el_no el_en al_para el_se el_como el_que el_para el_a\n"
     ]
    }
   ],
   "source": [
    "amloConfTok.common_contexts([\"ejército\",\"mundo\"])"
   ]
  },
  {
   "cell_type": "markdown",
   "id": "3016a002",
   "metadata": {},
   "source": [
    "### 3.- Usaremos ahora la librería _time_ para organizar las conferencias por fecha y poder hacer un análisis respecto del tiempo con _nltk_"
   ]
  },
  {
   "cell_type": "code",
   "execution_count": 13,
   "id": "e69f4dd1",
   "metadata": {},
   "outputs": [],
   "source": [
    "import glob\n",
    "from datetime import datetime\n",
    "\n",
    "a = []\n",
    "for f_pagina in glob.glob(\"./estenograficas_limpias_por_fecha/*\"):\n",
    "    t = f_pagina.replace(\"./estenograficas_limpias_por_fecha/\",\"\")\n",
    "    if(len(t) == 10):\n",
    "        a.append(datetime.strptime(t,'%Y-%m-%d').date())\n",
    "    else:\n",
    "        if(t[11]==\"2\"):\n",
    "            a.append(datetime.strptime(t,'%Y-%m-%d_2da').date())\n",
    "        else:\n",
    "            a.append(datetime.strptime(t,'%Y-%m-%d_3ra').date())\n",
    "a.sort()\n",
    "amloConf = (open(\"./estenograficas_limpias_por_fecha/\"+str(a[0]),\"r\",encoding = \"utf-8\").read())[700:]\n",
    "for k in range(1,len(a)):\n",
    "    if a[k] == a[k-1]:\n",
    "        if a[k-1] == a[k-2]:\n",
    "            amloConf += (open(\"./estenograficas_limpias_por_fecha/\"+str(a[k])+\"_3ra\",\"r\",encoding = \"utf-8\").read())[800:]\n",
    "        else:\n",
    "            amloConf += (open(\"./estenograficas_limpias_por_fecha/\"+str(a[k])+\"_2da\",\"r\",encoding = \"utf-8\").read())[800:]\n",
    "    else:\n",
    "        amloConf += (open(\"./estenograficas_limpias_por_fecha/\"+str(a[k]),\"r\",encoding = \"utf-8\").read())[800:]\n",
    "\n",
    "#amloConfTok = nltk.word_tokenize(amloConf.lower())\n",
    "#amloConfTok = Text(amloConfTok)"
   ]
  },
  {
   "cell_type": "code",
   "execution_count": 14,
   "id": "192fc39d",
   "metadata": {},
   "outputs": [],
   "source": [
    "from nltk.tokenize import TweetTokenizer\n",
    "\n",
    "tknt = TweetTokenizer()\n",
    "amloConfTok = tknt.tokenize(amloConf.lower())"
   ]
  },
  {
   "cell_type": "code",
   "execution_count": 18,
   "id": "244cb2ae",
   "metadata": {},
   "outputs": [
    {
     "name": "stdout",
     "output_type": "stream",
     "text": [
      "Displaying 25 of 42 matches:\n",
      " . se acabó la corrupción . me canso ganso . pregunta : buenos días . president\n",
      "va a acabar la corrupción . me canso ganso . pero aquí hay la virtud de la hone\n",
      "sí como lo vengo diciendo : me canso ganso . va porque va . y lo vamos a hacer \n",
      "mexicanos . esto se acaba . me canso ganso . ahí nos vemos , nos vemos mañana .\n",
      "va a acabar la corrupción . me canso ganso . yo estoy , por eso , muy contento \n",
      "a acabar con la impunidad , me canso ganso . el problema de méxico no es la fal\n",
      "ién se cansa primero . pero me canso ganso de que vamos a poner orden . imagíne\n",
      " va a acabar la impunidad . me canso ganso . pregunta : ( inaudible ) . preside\n",
      "a acabar con la impunidad ; me canso ganso . pregunta : aquí , en nuevo león . \n",
      "oy a cumplir . y , repito , me canso ganso , se va a acabar con la corrupción y\n",
      " acabar con la corrupción . me canso ganso . entonces , vamos a permitirle al d\n",
      "a corrupción , ahora sí que me canso ganso . no tengo duda sobre eso , de que v\n",
      "corrupción y la impunidad . me canso ganso , es en serio . estas empresas son l\n",
      "n y se acaba la impunidad . me canso ganso . pregunta : nada más para una preci\n",
      "y va a haber tranquilidad . me canso ganso . ahora sí , vámonos para la izquier\n",
      "la corrupción en veracruz . me canso ganso . uno más . pregunta : buenos días ,\n",
      " a terminar entendiéndolo , me canso ganso . no todos han entendido que el obje\n",
      "minada para mayo del 2022 . me canso ganso . rocío va a estar despachando en vi\n",
      " a terminar la corrupción , me canso ganso . y eso va a mejorar las condiciones\n",
      "zar y lo seguiré haciendo . me canso ganso . muchas gracias . y cedo la palabra\n",
      "upción y con la impunidad . me canso ganso . en eso vamos bien . en el combate \n",
      "va a acabar la corrupción , me canso ganso , para no seguir aumentando la deuda\n",
      " va a caminar el elefante . me canso ganso . interlocutor : presidente , en el \n",
      "presidente ’ . y les dije : me canso ganso que sí se lo doy . entonces , pues s\n",
      " fallar . adiós , adiós . y me canso ganso . interlocutora : exactamente , ya c\n"
     ]
    }
   ],
   "source": [
    "amloConfTok = Text(amloConfTok)\n",
    "amloConfTok.concordance(\"ganso\")"
   ]
  },
  {
   "cell_type": "code",
   "execution_count": 191,
   "id": "c18c7ee6",
   "metadata": {},
   "outputs": [
    {
     "data": {
      "image/png": "[encoded data removed]",
      "text/plain": [
       "<Figure size 640x480 with 1 Axes>"
      ]
     },
     "metadata": {},
     "output_type": "display_data"
    }
   ],
   "source": [
    "amloConfTok.dispersion_plot([\"ejército\",\"prian\", \"corrupción\", \"mafia\", \"narco\", \"gasolina\", \"pipas\",\n",
    "                             \"conacyt\", \"ciencia\",\"turismo\", \"pandemia\", \"coronavirus\", \"covid\", \"delta\",\n",
    "                             \"omicrón\", \"vacuna\", \"vacunación\",\"bienestar\",\"china\",\"putin\",\"guerra\"])"
   ]
  },
  {
   "cell_type": "markdown",
   "id": "994eddac",
   "metadata": {},
   "source": [
    "### 4.- Mostramos ahora las 50 colocaciones más comunes del texto."
   ]
  },
  {
   "cell_type": "code",
   "execution_count": 192,
   "id": "98209e50",
   "metadata": {},
   "outputs": [
    {
     "name": "stdout",
     "output_type": "stream",
     "text": [
      "andrés manuel; lópez obrador; manuel lópez; presidente andrés; estados\n",
      "unidos; por ciento; buenos días; señor presidente; todos los; nada\n",
      "más; guardia nacional; muchas gracias; desde luego; tren maya; adultos\n",
      "mayores; por eso; por ejemplo; derechos humanos; sin embargo; mil\n",
      "millones; baja california; marcelo ebrard; prensa matutina; todas las;\n",
      "creo que; quintana roo; muy importante; sobre todo; que que; por qué;\n",
      "muy bien; nuestro país; ver con; tiene que; benito juárez; para que;\n",
      "sembrando vida; comisión federal; los trabajadores; que nos; dos\n",
      "bocas; seguridad pública; gobierno federal; poder judicial; nuevo\n",
      "león; 5093 4900; documentosdocumentos gabinetegabinete; reserved\n",
      "developed; rights reserved; 01800 080 1127\n"
     ]
    }
   ],
   "source": [
    "amloConfTok.collocations(50)"
   ]
  },
  {
   "cell_type": "markdown",
   "id": "a2cdb517",
   "metadata": {},
   "source": [
    "### 5.- Podemos ahora extraer un diccionario con las longitudes de palabras más grandes del documento, nos aseguramos de que la palabra se encuentre más de dos veces para intentar evitar errores y no tomamos en cuenta las que tienen puntos para evitar páginas de internet."
   ]
  },
  {
   "cell_type": "code",
   "execution_count": 240,
   "id": "3ce58067",
   "metadata": {},
   "outputs": [],
   "source": [
    "fdi = FreqDist(amloConfTok)\n",
    "histlong = {len(x):y for (x,y) in fdi.items() if len(x) > 18 and y > 2 and \".\" not in x}"
   ]
  },
  {
   "cell_type": "code",
   "execution_count": 253,
   "id": "679f434d",
   "metadata": {},
   "outputs": [
    {
     "data": {
      "text/plain": [
       "Text(0.5, 1.0, 'Histograma de longitud de palabras en las conferencias de AMLO')"
      ]
     },
     "execution_count": 253,
     "metadata": {},
     "output_type": "execute_result"
    },
    {
     "data": {
      "image/png": "[encoded data removed]",
      "text/plain": [
       "<Figure size 640x480 with 1 Axes>"
      ]
     },
     "metadata": {},
     "output_type": "display_data"
    }
   ],
   "source": [
    "import matplotlib.pyplot as plt\n",
    "\n",
    "plt.bar(histlong.keys(), histlong.values(), width = 0.9, color='black')\n",
    "plt.grid()\n",
    "plt.title(\"Histograma de longitud de palabras en las conferencias de AMLO\")"
   ]
  },
  {
   "cell_type": "markdown",
   "id": "000eb6ae",
   "metadata": {},
   "source": [
    "### 6.- Mostramos ahora 50 palabras con longitud mayor a 8 y que se repitan más de 5 veces. Dejamos fuera algunas que son teléfonos o urls."
   ]
  },
  {
   "cell_type": "code",
   "execution_count": 262,
   "id": "7c2aa21d",
   "metadata": {},
   "outputs": [
    {
     "data": {
      "text/plain": [
       "['abastecimiento',\n",
       " 'publicación',\n",
       " 'elaboraron',\n",
       " 'asesoramiento',\n",
       " 'contactado',\n",
       " 'notificación',\n",
       " 'arruinaron',\n",
       " 'cuestionaba',\n",
       " 'mollinedo',\n",
       " 'cambiaban',\n",
       " 'contabilización',\n",
       " 'repatriar',\n",
       " 'suburbanas',\n",
       " 'desazolvando',\n",
       " 'retroactivo',\n",
       " 'esperanzador',\n",
       " 'heredados',\n",
       " 'específica',\n",
       " 'asesinados',\n",
       " 'petrolero',\n",
       " 'capacitada',\n",
       " 'preocupes',\n",
       " 'ascienden',\n",
       " 'multimillonario',\n",
       " 'coca-cola',\n",
       " 'destruidos',\n",
       " 'instalado',\n",
       " 'importantísima',\n",
       " 'consultor',\n",
       " 'discusión',\n",
       " 'reemplazar',\n",
       " 'declaración',\n",
       " 'macroeconómicas',\n",
       " 'sobrecargos',\n",
       " 'reiteradamente',\n",
       " 'almirantes',\n",
       " 'remuneración',\n",
       " 'sonorenses',\n",
       " 'auténticamente',\n",
       " 'maltratado',\n",
       " 'recomendando',\n",
       " 'medianoche',\n",
       " 'sumatoria',\n",
       " 'fortaleceremos',\n",
       " 'orgulloso',\n",
       " 'consumidos',\n",
       " 'transparentan',\n",
       " 'turbosina',\n",
       " 'idiosincrasia',\n",
       " 'representa']"
      ]
     },
     "execution_count": 262,
     "metadata": {},
     "output_type": "execute_result"
    }
   ],
   "source": [
    "[x for x in set(fdi) if len(x) > 8 and fdi[x] > 5 and \".\" not in x and \"0\" not in x][:50]"
   ]
  },
  {
   "cell_type": "markdown",
   "id": "54b756cb",
   "metadata": {},
   "source": [
    "### 7.- Podemos representar el uso de ciertas palabras con respecto al tiempo con la función _ConditionalFreqDist()_. Aquí dividimos las conferencias por mes aproximada con la longitud del texto y analizamos el uso de las palabras: \"ejército\", \"corrupción\" y \"pandemia\"."
   ]
  },
  {
   "cell_type": "code",
   "execution_count": 337,
   "id": "a9329129",
   "metadata": {},
   "outputs": [],
   "source": [
    "a = []\n",
    "for f_pagina in glob.glob(\"./estenograficas_limpias_por_fecha/*\"):\n",
    "    a.append(f_pagina.replace(\"./estenograficas_limpias_por_fecha/\",\"\")[:7])\n",
    "bins = sorted(list(set(a[2:])))"
   ]
  },
  {
   "cell_type": "code",
   "execution_count": 347,
   "id": "0d398ae2",
   "metadata": {
    "scrolled": false
   },
   "outputs": [
    {
     "data": {
      "image/png": "[encoded data removed]",
      "text/plain": [
       "<Figure size 1000x500 with 1 Axes>"
      ]
     },
     "metadata": {},
     "output_type": "display_data"
    }
   ],
   "source": [
    "words = [\"ejército\",\"pandemia\",\"corrupción\"]\n",
    "cfdist = nltk.ConditionalFreqDist()\n",
    "nbins = len(amloConfTok)//len(bins)\n",
    "for i in range(len(bins)):\n",
    "    for word in amloConfTok[i*nbins:(i+1)*nbins]:\n",
    "        if(word in words):\n",
    "            cfdist[word][bins[i]] += 1\n",
    "\n",
    "plt.figure(figsize=(10, 5))\n",
    "plt.title(\"Conteo de palabras en las conferencias de AMLO por mes\")\n",
    "cfdist.plot()\n",
    "plt.show()"
   ]
  },
  {
   "cell_type": "markdown",
   "id": "e17561e2",
   "metadata": {},
   "source": [
    "### 8.- Si filtramos el corpus usando las _stopwords_ en español vemos que el tamaño de nuestra lista se reduce casi a la mitad a pesar de que solo estamos quitando alrededor de 300 palabras."
   ]
  },
  {
   "cell_type": "code",
   "execution_count": 342,
   "id": "5361b39a",
   "metadata": {},
   "outputs": [],
   "source": [
    "stopwords = nltk.corpus.stopwords.words('spanish')\n",
    "amloConfTokStop = [t for t in amloConfTok if t not in stopwords]"
   ]
  },
  {
   "cell_type": "code",
   "execution_count": 350,
   "id": "31342ea2",
   "metadata": {},
   "outputs": [
    {
     "data": {
      "text/plain": [
       "1.7889711907806904"
      ]
     },
     "execution_count": 350,
     "metadata": {},
     "output_type": "execute_result"
    }
   ],
   "source": [
    "len(amloConfTok)/len(amloConfTokStop)"
   ]
  },
  {
   "cell_type": "code",
   "execution_count": 351,
   "id": "974dda6c",
   "metadata": {},
   "outputs": [
    {
     "data": {
      "text/plain": [
       "1.003285430939025"
      ]
     },
     "execution_count": 351,
     "metadata": {},
     "output_type": "execute_result"
    }
   ],
   "source": [
    "len(set(amloConfTok))/len(set(amloConfTokStop))"
   ]
  },
  {
   "cell_type": "markdown",
   "id": "5ac61bfa",
   "metadata": {},
   "source": [
    "### 9.- Por último mostramos las 300 palabras más repetidas usando el _tweetTokenizer_ y filtrando las _stopwords_ en español."
   ]
  },
  {
   "cell_type": "code",
   "execution_count": 373,
   "id": "8deb748c",
   "metadata": {},
   "outputs": [
    {
     "name": "stdout",
     "output_type": "stream",
     "text": [
      "FreqDist({',': 1005894, '.': 423213, ':': 95171, 'presidente': 71799, '¿': 50321, '?': 50205, 'si': 39026, 'lópez': 37229, 'obrador': 37109, 'manuel': 36525, 'andrés': 35914, 'entonces': 34875, 'va': 33072, 'vamos': 33007, 'méxico': 31279, ';': 30908, 'mil': 28945, 'gobierno': 22514, 'aquí': 22073, 'dos': 18789, 'ahora': 17674, 'nacional': 17489, 'ver': 17476, 'pues': 16790, '-': 16271, 'caso': 15857, '‘': 15420, 'ahí': 14938, 'millones': 14803, 'bueno': 14716, 'país': 14672, '’': 14663, 'pregunta': 14662, 'días': 14345, 'cómo': 14294, 'van': 13852, 'ser': 13746, 'usted': 13500, 'hacer': 13451, 'pesos': 13303, 'señor': 13224, 'así': 13068, 'gente': 13015, '…': 12751, 'gracias': 12114, 'ciento': 12085, 'pueblo': 11840, 'salud': 11686, 'tema': 11586, 'bien': 11308, 'tres': 11153, 'año': 11047, 'decir': 10808, 'años': 10785, 'importante': 10734, 'puede': 10669, 'parte': 10630, 'tener': 10527, 'mismo': 10458, 'seguridad': 10436, 'día': 10365, 'información': 10335, 'hoy': 10306, 'manera': 10294, 'personas': 10151, 'interlocutor': 9888, 'hace': 9823, 'tiempo': 9764, 'general': 9712, 'buenos': 9500, 'interlocutora': 9329, 'unidos': 9088, 'todas': 9060, 'poder': 8898, 'secretaría': 8833, 'luego': 8773, 'corrupción': 8281, 'ayer': 8138, 'sólo': 8129, 'voy': 8096, 'muchas': 8095, 'acuerdo': 7893, 'además': 7835, 'haciendo': 7650, 'ciudad': 7479, 'programa': 7377, 'trabajo': 7248, 'ustedes': 7245, 'federal': 7067, 'pública': 6921, 'ejemplo': 6763, 'semana': 6661, 'toda': 6612, 'siempre': 6537, 'empresas': 6489, 'cada': 6391, 'dar': 6236, 'creo': 6223, 'haber': 6199, 'secretario': 6110, 'política': 6078, 'vida': 6043, 'casos': 5919, 'trabajadores': 5790, 'apoyo': 5753, 'proceso': 5733, 'prensa': 5727, 'momento': 5702, 'reforma': 5689, 'dinero': 5664, 'menos': 5644, 'vez': 5640, 'mejor': 5625, 'cabo': 5618, 'cuatro': 5574, 'cosas': 5531, 'centavos': 5518, 'hecho': 5470, 'asunto': 5381, 'seguir': 5373, 'sino': 5351, 'plan': 5311, 'incluso': 5275, 'social': 5257, 'mexicanos': 5219, 'ir': 5213, 'todavía': 5191, 'covid': 5168, 'guardia': 5125, 'mañana': 5114, 'cinco': 5087, 'atención': 5053, '(': 5046, 'pemex': 4979, 'mundo': 4935, 'bienestar': 4918, 'situación': 4903, 'sido': 4891, 'pueden': 4890, '10': 4886, 'jóvenes': 4863, 'derecho': 4833, 'precio': 4818, '19': 4808, 'quiero': 4780, 'nuevo': 4762, 'problema': 4741, 'recursos': 4689, 'proyecto': 4686, 'podemos': 4620, 'dice': 4603, 'presupuesto': 4585, '20': 4579, 'quién': 4569, 'mayor': 4535, ')': 4440, 'primera': 4425, 'conocer': 4424, 'elementos': 4408, 'ley': 4392, 'después': 4375, 'baja': 4374, 'pasado': 4357, 'medios': 4344, 'primero': 4335, 'público': 4320, 'fiscalía': 4313, 'países': 4305, 'empresa': 4256, 'tren': 4255, 'trabajando': 4254, 'informar': 4233, 'queremos': 4215, 'cuenta': 4135, 'hizo': 4132, 'investigación': 4113, 'da': 4089, 'gran': 4067, 'sistema': 4005, 'comisión': 3988, 'preguntarle': 3982, 'mujeres': 3952, 'respecto': 3942, 'agua': 3938, 'violencia': 3936, 'república': 3934, 'gas': 3893, 'hablando': 3887, 'seis': 3886, 'informe': 3857, 'justicia': 3845, 'grupo': 3829, 'construcción': 3820, 'hacia': 3813, 'conferencia': 3801, 'personal': 3792, 'población': 3781, 'debe': 3779, 'mayores': 3760, 'instituto': 3728, 'adelante': 3699, 'sé': 3681, 'intervención': 3680, 'favor': 3664, 'derechos': 3663, 'cuál': 3655, 'vacuna': 3655, 'veces': 3649, 'tipo': 3638, '—': 3626, 'primer': 3606, 'número': 3600, 'claro': 3597, 'allá': 3594, 'lugar': 3588, 'nivel': 3554, 'veracruz': 3553, 'defensa': 3539, 'desarrollo': 3496, 'decía': 3473, 'mucha': 3468, 'gobernador': 3463, 'atender': 3431, 'mes': 3424, 'educación': 3420, 'falta': 3414, 'pandemia': 3404, 'centro': 3367, 'vemos': 3356, 'municipios': 3345, 'maya': 3340, 'nunca': 3331, 'médicos': 3325, 'nadie': 3323, 'vacunas': 3318, 'dicho': 3309, 'marina': 3304, 'sonora': 3274, 'nueva': 3266, 'sector': 3256, 'comunicación': 3231, 'forma': 3229, 'protección': 3228, 'aeropuerto': 3223, 'total': 3165, 'casa': 3149, 'constitución': 3147, 'seguro': 3126, 'iba': 3125, 'economía': 3117, 'precisamente': 3100, 'siguiente': 3100, 'respeto': 3098, 'buena': 3093, 'través': 3085, 'servicio': 3046, 'hospitales': 3043, 'zona': 3034, '15': 3028, 'segundo': 3021, 'meses': 3019, 'ningún': 3016, 'verdad': 3008, 'aunque': 3005, 'partir': 2988, 'adultos': 2985, 'cambio': 2983, 'tan': 2975, 'llegar': 2972, 'relación': 2958, 'periodo': 2958, 'autoridades': 2945, 'medio': 2945, 'dólares': 2942, 'saber': 2934, 'cuanto': 2923, 'compromiso': 2906, 'acciones': 2895, 'niños': 2891, 'juárez': 2881, 'humanos': 2876, 'video': 2873, 'podría': 2857, 'pueda': 2855, 'inversión': 2829, 'gobiernos': 2825, 'puedo': 2825, 'ocho': 2820, 'secretaria': 2819, 'dónde': 2814, 'llevar': 2799, 'dio': 2795, 'hicieron': 2790, 'democracia': 2781, '100': 2776, 'mayoría': 2765, 'reunión': 2751, 'alguna': 2747, 'propósito': 2745, 'energía': 2744, ...})\n"
     ]
    }
   ],
   "source": [
    "frqD = FreqDist(amloConfTokStop)\n",
    "frqD.pprint(maxlen = 300)"
   ]
  },
  {
   "cell_type": "markdown",
   "id": "ffb6bc2e",
   "metadata": {},
   "source": [
    "## 4- Otras librerías en Python"
   ]
  },
  {
   "cell_type": "markdown",
   "id": "d1afc0f5",
   "metadata": {},
   "source": [
    "### 1.- \n",
    "A parte de NLTK, existen más librerías de python que te permiten hacer NLP, dependerá el tipo de proyecto que se busque desarrollar para saber cuál es la librería más conveniente:\n",
    "\n",
    "_spaCy_ es una librería diseñada pensando en producción, por lo que la hace una poderosa librería para hacer NLP estadístico, por tanto requiere una robusta base de datos para poder funcionar adecuadamente. https://spacy.io/\n",
    "\n",
    "Otra librería es TextBlob, que está diseñada de forma muy amigable, por lo que es perfecta para introducirte en NLP, sin embargo, por esta misma razón, no es una librería lo suficiente robusta para realizar grandes proyectos. https://textblob.readthedocs.io/en/dev/"
   ]
  },
  {
   "cell_type": "markdown",
   "id": "800e2fac",
   "metadata": {},
   "source": [
    "## 2.-\n",
    "Por supuesto, podemos encontrar otras opciones en otros lenguajes de programación:\n",
    "De las librerías de NLP más usadas en Java, podemos encontrar _Apache OpenNLP_, que te permite realizar operaciones y cálculos similares a NLTK en python con facilidad y simplicidad aunque no es la más robusta para trabajar grandes proyectos y solo es para procesamiento de texto tiene muy buena documentación.\n",
    "https://opennlp.apache.org/\n",
    "\n",
    "En R también existen muchas posibilidades según tu proyecto, una de ellas es _Stringr_, que te permite de manera muy intuitiva y sencilla hacer operaciones sencillas para realizar NLP, sin embargo es básica y requerirás opciones más potentes para realizar análisis estadísticos potentes.\n",
    "https://stringr.tidyverse.org/\n",
    "\n",
    "Incluso podemos encontrar opciones para C# como _Catalyst_, que es una librería muy ágil para hacer NLP basado en el diseño de spaCy. Una desventaja de usar esta librería en C# es que es complicado encontrar buena documentación.\n",
    "https://github.com/curiosity-ai/catalyst"
   ]
  },
  {
   "cell_type": "code",
   "execution_count": null,
   "id": "be48a34b",
   "metadata": {},
   "outputs": [],
   "source": []
  }
 ],
 "metadata": {
  "kernelspec": {
   "display_name": "Python 3 (ipykernel)",
   "language": "python",
   "name": "python3"
  },
  "language_info": {
   "codemirror_mode": {
    "name": "ipython",
    "version": 3
   },
   "file_extension": ".py",
   "mimetype": "text/x-python",
   "name": "python",
   "nbconvert_exporter": "python",
   "pygments_lexer": "ipython3",
   "version": "3.9.13"
  }
 },
 "nbformat": 4,
 "nbformat_minor": 5
}
